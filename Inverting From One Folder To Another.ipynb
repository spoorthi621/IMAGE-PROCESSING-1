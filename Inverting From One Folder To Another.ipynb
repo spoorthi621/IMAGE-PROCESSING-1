{
 "cells": [
  {
   "cell_type": "code",
   "execution_count": 1,
   "id": "56582928",
   "metadata": {},
   "outputs": [
    {
     "name": "stdout",
     "output_type": "stream",
     "text": [
      "D:/Empty\\invert_abd.png\n",
      "D:/Empty\\invert_bottle.jpg\n",
      "D:/Empty\\invert_canvas.png\n",
      "D:/Empty\\invert_canvas2.png\n",
      "D:/Empty\\invert_canvas3.png\n",
      "D:/Empty\\invert_canvas4.jpg\n",
      "D:/Empty\\invert_cat_damaged.png\n",
      "D:/Empty\\invert_cat_mask.png\n",
      "D:/Empty\\invert_chintu.jpg\n",
      "D:/Empty\\invert_countour.png\n",
      "D:/Empty\\invert_diff1.jpg\n",
      "D:/Empty\\invert_diff2.jpg\n",
      "D:/Empty\\invert_gontu.jpg\n",
      "D:/Empty\\invert_grid.jpg\n",
      "D:/Empty\\invert_grid1.png\n",
      "D:/Empty\\invert_im1.png\n",
      "D:/Empty\\invert_im10.png\n",
      "D:/Empty\\invert_im2.png\n",
      "D:/Empty\\invert_im3.png\n",
      "D:/Empty\\invert_im4.png\n",
      "D:/Empty\\invert_im5.png\n",
      "D:/Empty\\invert_im6.png\n",
      "D:/Empty\\invert_im7.png\n",
      "D:/Empty\\invert_im8.png\n",
      "D:/Empty\\invert_im9.png\n",
      "D:/Empty\\invert_ImageFlip.png\n",
      "D:/Empty\\invert_IS.png\n",
      "D:/Empty\\invert_logo.png\n",
      "D:/Empty\\invert_logo1.png\n",
      "D:/Empty\\invert_mintu.jpg\n",
      "D:/Empty\\invert_nike.png\n",
      "D:/Empty\\invert_o.png\n",
      "D:/Empty\\invert_restore.png\n",
      "D:/Empty\\invert_s.png\n",
      "D:/Empty\\invert_s1.png\n",
      "D:/Empty\\invert_square.png\n",
      "D:/Empty\\invert_square1.png\n",
      "D:/Empty\\invert_watermark.png\n",
      "D:/Empty\\invert_watermark1.png\n",
      "D:/Empty\\invert_watermark2.png\n",
      "D:/Empty\\invert_x.png\n"
     ]
    }
   ],
   "source": [
    "# Code to apply operations on all the images  present in a folder one by one\n",
    "# operations such as rotating, cropping,\n",
    "\n",
    "from PIL import Image\n",
    "from PIL import ImageFilter\n",
    "import os\n",
    "\n",
    "def main():\n",
    "# path of the folder containing the raw images\n",
    "    inPath =\"C:/Users/User/Downloads/Im\"\n",
    "\n",
    "# path of the folder that will contain the modified image\n",
    "    outPath =\"D:/Empty\"\n",
    "\n",
    "    for imagePath in os.listdir(inPath):\n",
    "# imagePath contains name of the image\n",
    "       inputPath = os.path.join(inPath, imagePath)\n",
    "\n",
    "# inputPath contains the full directory name\n",
    "       img = Image.open(inputPath)\n",
    "\n",
    "       fullOutPath = os.path.join(outPath, 'invert_'+imagePath)\n",
    "# fullOutPath contains the path of the output\n",
    "# image that needs to be generated\n",
    "       img.rotate(90).save(fullOutPath)\n",
    "\n",
    "       print(fullOutPath)\n",
    "\n",
    "# Driver Function\n",
    "if __name__ == '__main__':\n",
    "    main()\n"
   ]
  },
  {
   "cell_type": "code",
   "execution_count": null,
   "id": "08b26d13",
   "metadata": {},
   "outputs": [],
   "source": []
  }
 ],
 "metadata": {
  "kernelspec": {
   "display_name": "Python 3 (ipykernel)",
   "language": "python",
   "name": "python3"
  },
  "language_info": {
   "codemirror_mode": {
    "name": "ipython",
    "version": 3
   },
   "file_extension": ".py",
   "mimetype": "text/x-python",
   "name": "python",
   "nbconvert_exporter": "python",
   "pygments_lexer": "ipython3",
   "version": "3.9.7"
  }
 },
 "nbformat": 4,
 "nbformat_minor": 5
}
