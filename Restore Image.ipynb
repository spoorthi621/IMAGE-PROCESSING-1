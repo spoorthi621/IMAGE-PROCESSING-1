{
 "cells": [
  {
   "cell_type": "code",
   "execution_count": null,
   "id": "f6c32369",
   "metadata": {},
   "outputs": [],
   "source": [
    "#Restore Image\n",
    "import numpy as np\n",
    "import cv2\n",
    "\n",
    "# Open the image.\n",
    "img = cv2.imread('cat_damaged.png')\n",
    "\n",
    "# Load the mask.\n",
    "mask = cv2.imread('cat_mask.png', 0)\n",
    "\n",
    "# Inpaint.\n",
    "dst = cv2.inpaint(img, mask, 3, cv2.INPAINT_NS)\n",
    "\n",
    "# Write the output.\n",
    "cv2.imwrite('cat_inpainted.png', dst)\n",
    "\n",
    "cv2.imshow(\"image\",img)\n",
    "cv2.imshow(\"mask\",mask)\n",
    "cv2.imshow(\"restored image\",dst)\n",
    "\n",
    "cv2.waitKey(0)\n",
    "cv2.destroyAllWindows()\n"
   ]
  },
  {
   "cell_type": "code",
   "execution_count": null,
   "id": "9059ca88",
   "metadata": {},
   "outputs": [],
   "source": [
    "\n",
    "cv2.waitKey(0)\n",
    "cv2.destroyAllWindows()\n"
   ]
  },
  {
   "cell_type": "code",
   "execution_count": null,
   "id": "84ab0843",
   "metadata": {},
   "outputs": [],
   "source": []
  }
 ],
 "metadata": {
  "kernelspec": {
   "display_name": "Python 3 (ipykernel)",
   "language": "python",
   "name": "python3"
  },
  "language_info": {
   "codemirror_mode": {
    "name": "ipython",
    "version": 3
   },
   "file_extension": ".py",
   "mimetype": "text/x-python",
   "name": "python",
   "nbconvert_exporter": "python",
   "pygments_lexer": "ipython3",
   "version": "3.9.7"
  }
 },
 "nbformat": 4,
 "nbformat_minor": 5
}
