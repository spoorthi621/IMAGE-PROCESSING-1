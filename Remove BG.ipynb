{
 "cells": [
  {
   "cell_type": "code",
   "execution_count": 1,
   "id": "9e62b83c",
   "metadata": {},
   "outputs": [],
   "source": [
    "#Remove BG\n",
    "\n",
    "from PIL import Image,ImageDraw\n",
    "img2 = Image.open(\"im7.png\").convert(\"RGBA\")\n",
    "seed=(0,0)\n",
    "rep_value=(0,0,0,0)\n",
    "ImageDraw.floodfill(img2,seed,rep_value,thresh=100)\n",
    "\n",
    "# Opening the primary image (used in background)\n",
    "img1 = Image.open(\"gontu.jpg\")\n",
    "\n",
    "\n",
    "# Opening the secondary image (overlay image)\n",
    "\n",
    "# Pasting img2 image on top of img1\n",
    "# starting at coordinates (0, 0)\n",
    "img1.paste(img2, mask = img2)\n",
    "\n",
    "# Displaying the image\n",
    "img1.show()\n"
   ]
  },
  {
   "cell_type": "code",
   "execution_count": 2,
   "id": "7106b676",
   "metadata": {},
   "outputs": [],
   "source": [
    "import cv2\n",
    "from PIL import Image,ImageDraw,ImageFilter\n",
    "img1 = Image.open(\"im1.png\")\n",
    "img2 = Image.open(\"im9.png\")\n",
    "mask=Image.new(\"L\",img2.size,0)\n",
    "draw=ImageDraw.Draw(mask)\n",
    "draw.ellipse((50,10,300,350),fill=200)\n",
    "mask_im_blur=mask.filter(ImageFilter.GaussianBlur(10))\n",
    "back_im = img1.copy()\n",
    "back_im.paste(img2,(0,0),mask_im_blur)\n",
    "back_im.show()\n",
    "cv2.waitKey(0)  \n",
    "cv2.destroyAllWindows()\n"
   ]
  },
  {
   "cell_type": "code",
   "execution_count": null,
   "id": "4528b878",
   "metadata": {},
   "outputs": [],
   "source": []
  },
  {
   "cell_type": "code",
   "execution_count": null,
   "id": "9358cf5e",
   "metadata": {},
   "outputs": [],
   "source": []
  }
 ],
 "metadata": {
  "kernelspec": {
   "display_name": "Python 3 (ipykernel)",
   "language": "python",
   "name": "python3"
  },
  "language_info": {
   "codemirror_mode": {
    "name": "ipython",
    "version": 3
   },
   "file_extension": ".py",
   "mimetype": "text/x-python",
   "name": "python",
   "nbconvert_exporter": "python",
   "pygments_lexer": "ipython3",
   "version": "3.9.7"
  }
 },
 "nbformat": 4,
 "nbformat_minor": 5
}
