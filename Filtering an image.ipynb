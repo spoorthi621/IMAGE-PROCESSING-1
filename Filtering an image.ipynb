{
 "cells": [
  {
   "cell_type": "code",
   "execution_count": 1,
   "id": "966afa65",
   "metadata": {},
   "outputs": [],
   "source": [
    "#Median Filtering\n",
    "import cv2\n",
    "import numpy as np\n",
    "\n",
    "#read image\n",
    "img_noisy1=cv2.imread(\"gontu.jpg\",0)\n",
    "\n",
    "#obtain no of rows and columns\n",
    "m,n=img_noisy1.shape\n",
    "\n",
    "#traverse the image\n",
    "img_new1=np.zeros([m,n])\n",
    "for i in range(1,m-1):\n",
    "    for j in range(1,n-1):\n",
    "        temp=[img_noisy1[i-1,j],\n",
    "              img_noisy1[i-1,j+1],\n",
    "              img_noisy1[i,j-1],\n",
    "              img_noisy1[i,j],\n",
    "              img_noisy1[i,j+1],\n",
    "              img_noisy1[i+1,j-1],\n",
    "              img_noisy1[i+1,j],\n",
    "              img_noisy1[i-1,j-1],\n",
    "              img_noisy1[i+1,j+1]]\n",
    "       \n",
    "        temp=sorted(temp)\n",
    "        img_new1[i,j]=temp[4]\n",
    "        img_new1=img_new1.astype(np.uint8)\n",
    "       \n",
    "cv2.imshow(\"Median filtered image\",img_new1)\n",
    "cv2.waitKey(0)\n",
    "cv2.destroyAllWindows()"
   ]
  },
  {
   "cell_type": "code",
   "execution_count": 10,
   "id": "29f1201d",
   "metadata": {},
   "outputs": [],
   "source": [
    "#Blurred\n",
    "import cv2\n",
    "import numpy as np\n",
    "img=cv2.imread(\"gontu.jpg\",0)\n",
    "m,n=img.shape\n",
    "mask=np.ones([3,3],dtype=int)\n",
    "mask=mask/9\n",
    "new=np.zeros([m,n])\n",
    "for i in range(1,m-1):\n",
    "    for j in range(1,n-1):\n",
    "        temp=img[i-1,j-1]*mask[0,0]+img[i-1,j]*mask[0,1]+img[i-1,j+1]*mask[0,2]+img[i,j-1]*mask[1,0]+img[i,j]*mask[1,1]+img[i,j+1]*mask[1,2]+img[i+1,j-1]*mask[2,0]+img[i+1,j]*mask[2,1]+img[i+1,j+1]*mask[2,2]\n",
    "        new[i,j]=temp\n",
    "        new=new.astype(np.uint8)\n",
    "cv2.imshow(\"blurred\",new)\n",
    "cv2.waitKey(0)\n",
    "cv2.destroyAllWindows()"
   ]
  },
  {
   "cell_type": "code",
   "execution_count": 9,
   "id": "ee67fe45",
   "metadata": {},
   "outputs": [],
   "source": []
  },
  {
   "cell_type": "code",
   "execution_count": null,
   "id": "a4134930",
   "metadata": {},
   "outputs": [],
   "source": []
  },
  {
   "cell_type": "code",
   "execution_count": null,
   "id": "a10e909b",
   "metadata": {},
   "outputs": [],
   "source": []
  }
 ],
 "metadata": {
  "kernelspec": {
   "display_name": "Python 3 (ipykernel)",
   "language": "python",
   "name": "python3"
  },
  "language_info": {
   "codemirror_mode": {
    "name": "ipython",
    "version": 3
   },
   "file_extension": ".py",
   "mimetype": "text/x-python",
   "name": "python",
   "nbconvert_exporter": "python",
   "pygments_lexer": "ipython3",
   "version": "3.9.7"
  }
 },
 "nbformat": 4,
 "nbformat_minor": 5
}
