{
 "cells": [
  {
   "cell_type": "code",
   "execution_count": 1,
   "id": "972c4445",
   "metadata": {},
   "outputs": [],
   "source": [
    "import cv2 as cv\n",
    "img1 = cv.imread(\"mintu.jpg\")\n",
    "img2 = cv.imread(\"gontu.jpg\")\n",
    "cv.imshow('img1',img1)\n",
    "cv.imshow('img2',img2)\n",
    "\n",
    "cv.waitKey(0)  \n",
    "cv.destroyAllWindows()"
   ]
  },
  {
   "cell_type": "code",
   "execution_count": 2,
   "id": "ae2f8660",
   "metadata": {},
   "outputs": [],
   "source": [
    "#AND\n",
    "bitwise_AND = cv.bitwise_and(img1, img2)\n",
    "cv.imshow('AND',bitwise_AND)\n",
    "\n",
    "cv.waitKey(0)  \n",
    "cv.destroyAllWindows()"
   ]
  },
  {
   "cell_type": "code",
   "execution_count": 3,
   "id": "d090112d",
   "metadata": {},
   "outputs": [],
   "source": [
    "#OR\n",
    "bitwise_OR = cv.bitwise_or(img1, img2)\n",
    "cv.imshow('OR',bitwise_OR)\n",
    "\n",
    "cv.waitKey(0)  \n",
    "cv.destroyAllWindows()\n"
   ]
  },
  {
   "cell_type": "code",
   "execution_count": 4,
   "id": "c6413dbb",
   "metadata": {},
   "outputs": [],
   "source": [
    "#NOT\n",
    "bitwise_NOT = cv.bitwise_not(img1)\n",
    "cv.imshow('NOT',bitwise_NOT)\n",
    "\n",
    "cv.waitKey(0)  \n",
    "cv.destroyAllWindows()"
   ]
  },
  {
   "cell_type": "code",
   "execution_count": null,
   "id": "738549ac",
   "metadata": {},
   "outputs": [],
   "source": []
  },
  {
   "cell_type": "code",
   "execution_count": 6,
   "id": "5ba34cd9",
   "metadata": {},
   "outputs": [],
   "source": []
  },
  {
   "cell_type": "code",
   "execution_count": 29,
   "id": "7f5ae0ac",
   "metadata": {},
   "outputs": [],
   "source": []
  },
  {
   "cell_type": "code",
   "execution_count": null,
   "id": "994c7a4c",
   "metadata": {},
   "outputs": [],
   "source": []
  }
 ],
 "metadata": {
  "kernelspec": {
   "display_name": "Python 3 (ipykernel)",
   "language": "python",
   "name": "python3"
  },
  "language_info": {
   "codemirror_mode": {
    "name": "ipython",
    "version": 3
   },
   "file_extension": ".py",
   "mimetype": "text/x-python",
   "name": "python",
   "nbconvert_exporter": "python",
   "pygments_lexer": "ipython3",
   "version": "3.9.7"
  }
 },
 "nbformat": 4,
 "nbformat_minor": 5
}
