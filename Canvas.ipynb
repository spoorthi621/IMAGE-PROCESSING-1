{
 "cells": [
  {
   "cell_type": "code",
   "execution_count": 19,
   "id": "ec930f0e",
   "metadata": {},
   "outputs": [],
   "source": [
    "import cv2\n",
    "import numpy as np\n",
    "from skimage import io      # Only needed for web grabbing images; use cv2.imread(...) for local images\n",
    "\n",
    "\n",
    "# Read images\n",
    "frame = cv2.cvtColor(io.imread('crop.png'), cv2.COLOR_RGB2BGR)\n",
    "image = cv2.cvtColor(io.imread('im4.png'), cv2.COLOR_RGB2BGR)\n",
    "\n",
    "\n",
    "# Color threshold red frame; single color here, more sophisticated solution would be using cv2.inRange\n",
    "mask = 255 * np.uint8(np.all(frame == [36, 28, 237], axis=2))\n",
    "\n",
    "\n",
    "# Find inner contour of frame; get coordinates\n",
    "contours, _ = cv2.findContours(mask, cv2.RETR_LIST, cv2.CHAIN_APPROX_SIMPLE)\n",
    "cnt = min(contours, key=cv2.contourArea)\n",
    "(x, y, w, h) = cv2.boundingRect(cnt)\n",
    "\n",
    "\n",
    "# Copy appropriately resized image to frame\n",
    "frame[y:y+h, x:x+w] = cv2.resize(image, (w, h))\n",
    "\n",
    "\n",
    "cv2.imshow('frame', frame)\n",
    "cv2.waitKey(0)\n",
    "cv2.destroyAllWindows()"
   ]
  },
  {
   "cell_type": "code",
   "execution_count": null,
   "id": "9235d2ab",
   "metadata": {},
   "outputs": [],
   "source": []
  }
 ],
 "metadata": {
  "kernelspec": {
   "display_name": "Python 3 (ipykernel)",
   "language": "python",
   "name": "python3"
  },
  "language_info": {
   "codemirror_mode": {
    "name": "ipython",
    "version": 3
   },
   "file_extension": ".py",
   "mimetype": "text/x-python",
   "name": "python",
   "nbconvert_exporter": "python",
   "pygments_lexer": "ipython3",
   "version": "3.9.7"
  }
 },
 "nbformat": 4,
 "nbformat_minor": 5
}
