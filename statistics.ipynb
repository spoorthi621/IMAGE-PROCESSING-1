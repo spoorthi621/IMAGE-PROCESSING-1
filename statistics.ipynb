{
 "cells": [
  {
   "cell_type": "code",
   "execution_count": 1,
   "id": "dd26efea",
   "metadata": {},
   "outputs": [
    {
     "name": "stdout",
     "output_type": "stream",
     "text": [
      "Image successfully converted\n"
     ]
    }
   ],
   "source": [
    "#converting image\n",
    "from PIL import Image \n",
    "image = Image.open('im6.png')\n",
    "image.save(\"img6.jpg\")\n",
    "print(\"Image successfully converted\")"
   ]
  },
  {
   "cell_type": "code",
   "execution_count": 2,
   "id": "faa8ede6",
   "metadata": {},
   "outputs": [
    {
     "name": "stdout",
     "output_type": "stream",
     "text": [
      "RGB\n"
     ]
    }
   ],
   "source": [
    "#print mode\n",
    "print(image.mode)"
   ]
  },
  {
   "cell_type": "code",
   "execution_count": null,
   "id": "6c610bae",
   "metadata": {},
   "outputs": [],
   "source": [
    "#Cropping\n",
    "import cv2\n",
    "im=cv2.imread('im7.png')\n",
    "crop=im[50:200,100:400]\n",
    "cv2.imshow(\"Original Image\",im)\n",
    "cv2.imshow(\"Cropped Image\",crop)\n",
    "cv2.waitKey(0)\n",
    "cv2.destroyAllWindows()\n"
   ]
  },
  {
   "cell_type": "code",
   "execution_count": null,
   "id": "1160e099",
   "metadata": {},
   "outputs": [],
   "source": [
    "#writing on image\n",
    "from PIL import Image,ImageDraw,ImageFont\n",
    "\n",
    "im=Image.open('im1.png')\n",
    "d1=ImageDraw.Draw(im)\n",
    "font=ImageFont.truetype(\"calibri.ttf\",100)\n",
    "d1.text((100,200),\"Hello,flower\",fill=(250,0,0),font=font)\n",
    "im.show()"
   ]
  },
  {
   "cell_type": "code",
   "execution_count": null,
   "id": "96dac8a0",
   "metadata": {},
   "outputs": [],
   "source": [
    "#Image blending\n",
    "\n",
    "im1=Image.open(\"gontu.jpg\")\n",
    "im2=Image.open(\"mintu.jpg\")\n",
    "\n",
    "alpha1=Image.blend(im1,im2,alpha=.4)\n",
    "alpha2=Image.blend(im1,im2,alpha=.2)\n",
    "\n",
    "alpha1.show()\n",
    "alpha2.show()"
   ]
  },
  {
   "cell_type": "code",
   "execution_count": null,
   "id": "e9f1c364",
   "metadata": {},
   "outputs": [],
   "source": [
    "#RGB Channels\n",
    "import matplotlib.pyplot as plt\n",
    "ch_r,ch_g,ch_b=im1.split()\n",
    "plt.figure(figsize=(18,6))\n",
    "plt.subplot(1,3,1);\n",
    "plt.imshow(ch_r,cmap=plt.cm.Reds);plt.axis(\"off\")\n",
    "plt.subplot(1,3,2);\n",
    "plt.imshow(ch_g,cmap=plt.cm.Greens);plt.axis(\"off\")\n",
    "plt.subplot(1,3,3);\n",
    "plt.imshow(ch_b,cmap=plt.cm.Blues);plt.axis(\"off\")\n",
    "plt.tight_layout()\n",
    "plt.show()"
   ]
  },
  {
   "cell_type": "code",
   "execution_count": null,
   "id": "db462fdf",
   "metadata": {},
   "outputs": [],
   "source": [
    "#negating image\n",
    "im=Image.open(\"im6.png\")\n",
    "im_t=im.point(lambda x:255 -x)\n",
    "im_t.show()"
   ]
  },
  {
   "cell_type": "code",
   "execution_count": null,
   "id": "296cd008",
   "metadata": {},
   "outputs": [],
   "source": [
    "#histogram\n",
    "im=Image.open(\"im6.png\")\n",
    "pl=im.histogram()\n",
    "plt.bar(range(256),pl[:256],color='r',alpha=0.5)\n",
    "plt.bar(range(256),pl[:256:2*256],color='g',alpha=0.4)\n",
    "plt.bar(range(256),pl[2*256:],color='b',alpha=0.3)"
   ]
  },
  {
   "cell_type": "code",
   "execution_count": null,
   "id": "e7d1ee9c",
   "metadata": {},
   "outputs": [],
   "source": [
    "#stat\n",
    "#Mean\n",
    "from PIL import Image,ImageStat\n",
    "im=Image.open(\"im1.png\")\n",
    "stat=ImageStat.Stat(im)\n",
    "print(stat.mean)"
   ]
  },
  {
   "cell_type": "code",
   "execution_count": null,
   "id": "653b6f89",
   "metadata": {},
   "outputs": [],
   "source": [
    "#Median\n",
    "from PIL import Image,ImageStat\n",
    "im=Image.open(\"im1.png\")\n",
    "stat=ImageStat.Stat(im)\n",
    "print(stat.median)"
   ]
  },
  {
   "cell_type": "code",
   "execution_count": null,
   "id": "6f077b41",
   "metadata": {},
   "outputs": [],
   "source": [
    "#Standard Deviation\n",
    "from PIL import Image,ImageStat\n",
    "im=Image.open(\"im1.png\")\n",
    "stat=ImageStat.Stat(im)\n",
    "print(stat.stddev)"
   ]
  },
  {
   "cell_type": "code",
   "execution_count": null,
   "id": "bf0fa9ea",
   "metadata": {},
   "outputs": [],
   "source": [
    "#Drawing on an image\n",
    "from PIL import Image,ImageDraw\n",
    "im=Image.open(\"im2.png\")\n",
    "draw=ImageDraw.Draw(im)\n",
    "draw.rectangle(xy=(50,50,150,150),fill=(0,127,0))\n",
    "im.show()"
   ]
  },
  {
   "cell_type": "code",
   "execution_count": null,
   "id": "9a260872",
   "metadata": {},
   "outputs": [],
   "source": [
    "#slicing\n",
    "from skimage.io import imshow,imread\n",
    "import matplotlib.pyplot as plt\n",
    "im=imread(\"im1.png\")\n",
    "imshow(im)\n",
    "fig,ax=plt.subplots(1,3,figsize=(6,4),sharey=True)\n",
    "\n",
    "ax[0].imshow(im[:,0:130])\n",
    "ax[0].set_title('First Split')\n",
    "\n",
    "ax[1].imshow(im[:,130:260])\n",
    "ax[1].set_title('Second Split')\n",
    "\n",
    "ax[2].imshow(im[:,260:390])\n",
    "ax[2].set_title('Third Split')"
   ]
  },
  {
   "cell_type": "code",
   "execution_count": null,
   "id": "838d3af2",
   "metadata": {},
   "outputs": [],
   "source": []
  },
  {
   "cell_type": "code",
   "execution_count": null,
   "id": "239982d4",
   "metadata": {},
   "outputs": [],
   "source": []
  }
 ],
 "metadata": {
  "kernelspec": {
   "display_name": "Python 3 (ipykernel)",
   "language": "python",
   "name": "python3"
  },
  "language_info": {
   "codemirror_mode": {
    "name": "ipython",
    "version": 3
   },
   "file_extension": ".py",
   "mimetype": "text/x-python",
   "name": "python",
   "nbconvert_exporter": "python",
   "pygments_lexer": "ipython3",
   "version": "3.9.7"
  }
 },
 "nbformat": 4,
 "nbformat_minor": 5
}
