{
 "cells": [
  {
   "cell_type": "code",
   "execution_count": 3,
   "id": "4f2c9856",
   "metadata": {},
   "outputs": [
    {
     "data": {
      "text/plain": [
       "'montage.png'"
      ]
     },
     "execution_count": 3,
     "metadata": {},
     "output_type": "execute_result"
    }
   ],
   "source": [
    "import cv2\n",
    "from PIL import Image\n",
    "from skimage import io\n",
    "\n",
    "\n",
    "IMAGE_WIDTH = 400\n",
    "IMAGE_HEIGHT = 400\n",
    "\n",
    "def create_collage(images):\n",
    "    images = [io.imread(img) for img in images]\n",
    "    images = [cv2.resize(image, (IMAGE_WIDTH, IMAGE_HEIGHT)) for image in images]\n",
    "    if len(images) > 2:\n",
    "        half = len(images) // 2\n",
    "        h1 = cv2.hconcat(images[:half])\n",
    "        h2 = cv2.hconcat(images[half:])\n",
    "        concat_images = cv2.vconcat([h1, h2])\n",
    "    else:\n",
    "        concat_images = cv2.hconcat(images)\n",
    "    image = Image.fromarray(concat_images)\n",
    "\n",
    "    # Image path\n",
    "    image_name = \"montage.png\"\n",
    "    image = image.convert(\"RGB\")\n",
    "    image.save(f\"{image_name}\")\n",
    "    return image_name\n",
    "images=[\"im2.png\",\"im4.png\",\"im8.png\",\"im10.png\"]\n",
    "#image1 on top left, image2 on top right, image3 on bottom left,image4 on bottom right\n",
    "create_collage(images)\n"
   ]
  },
  {
   "cell_type": "code",
   "execution_count": 5,
   "id": "62f524fe",
   "metadata": {},
   "outputs": [],
   "source": [
    "\n",
    "import cv2\n",
    "import numpy as np\n",
    "\n",
    "# read all the images\n",
    "# we are going to take 4 images only\n",
    "image1=cv2.imread(\"im1.png\")\n",
    "image2=cv2.imread(\"im3.png\")\n",
    "image3=cv2.imread(\"im5.png\")\n",
    "image4=cv2.imread(\"im7.png\")\n",
    "\n",
    "# make all the images of same size\n",
    "#so we will use resize function\n",
    "image1=cv2.resize(image1,(200,200))\n",
    "image2=cv2.resize(image2,(200,200))\n",
    "image3=cv2.resize(image3,(200,200))\n",
    "image4=cv2.resize(image4,(200,200))\n",
    "\n",
    "# Now how we will attach image with other image\n",
    "# we will create a horizontal stack of images\n",
    "# then we will add it to the vertical stack\n",
    "# let the horizontal pair be (image1,image2)\n",
    "# and (image3,image4)\n",
    "# we will use numpy stack function\n",
    "Horizontal1=np.hstack([image1,image2])\n",
    "Horizontal2=np.hstack([image3,image4])\n",
    "\n",
    "# Now the horizontal attachment is done\n",
    "# noe vertical attachment\n",
    "Vertical_attachment=np.vstack([Horizontal1,Horizontal2])\n",
    "\n",
    "# Show the final attachment\n",
    "cv2.imshow(\"Final Collage\",Vertical_attachment)\n",
    "cv2.waitKey(0)\n",
    "cv2.destroyAllWindows()\n"
   ]
  },
  {
   "cell_type": "code",
   "execution_count": null,
   "id": "8e1a7525",
   "metadata": {},
   "outputs": [],
   "source": []
  }
 ],
 "metadata": {
  "kernelspec": {
   "display_name": "Python 3 (ipykernel)",
   "language": "python",
   "name": "python3"
  },
  "language_info": {
   "codemirror_mode": {
    "name": "ipython",
    "version": 3
   },
   "file_extension": ".py",
   "mimetype": "text/x-python",
   "name": "python",
   "nbconvert_exporter": "python",
   "pygments_lexer": "ipython3",
   "version": "3.9.7"
  }
 },
 "nbformat": 4,
 "nbformat_minor": 5
}
